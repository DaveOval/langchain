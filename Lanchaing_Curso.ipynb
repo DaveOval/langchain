{
 "cells": [
  {
   "cell_type": "markdown",
   "id": "9ca825d3-9463-42ab-ba24-8791da01acfe",
   "metadata": {},
   "source": [
    "# Preparando el entorno"
   ]
  },
  {
   "cell_type": "markdown",
   "id": "9fed83ad-fef8-484c-ba19-9a99a74ab4df",
   "metadata": {},
   "source": [
    "## Instalar librerias"
   ]
  },
  {
   "cell_type": "code",
   "execution_count": 1,
   "id": "b9226ec9-afc9-4543-a4e7-d2d4efe8e84c",
   "metadata": {},
   "outputs": [],
   "source": [
    "!pip install langchain -q"
   ]
  },
  {
   "cell_type": "code",
   "execution_count": 2,
   "id": "cb829a9f-cc0d-4d94-9659-8ac94ad02e93",
   "metadata": {},
   "outputs": [],
   "source": [
    "!pip install python-dotenv -q"
   ]
  },
  {
   "cell_type": "markdown",
   "id": "e50aef22-fcfc-463a-9338-018324b1c08a",
   "metadata": {},
   "source": [
    "# Variables de entrono"
   ]
  },
  {
   "cell_type": "code",
   "execution_count": 3,
   "id": "e911c1d2-1872-41fd-bf5f-229f5ccea46d",
   "metadata": {},
   "outputs": [],
   "source": [
    "from dotenv import load_dotenv"
   ]
  },
  {
   "cell_type": "code",
   "execution_count": 4,
   "id": "4abe66ef-2a8d-4fc5-8b5c-8b5e70f3fd02",
   "metadata": {},
   "outputs": [],
   "source": [
    "import os"
   ]
  },
  {
   "cell_type": "code",
   "execution_count": 5,
   "id": "9d1ba0b3-1bf3-43d1-9efd-a7e00fae8002",
   "metadata": {},
   "outputs": [
    {
     "data": {
      "text/plain": [
       "True"
      ]
     },
     "execution_count": 5,
     "metadata": {},
     "output_type": "execute_result"
    }
   ],
   "source": [
    "load_dotenv()"
   ]
  },
  {
   "cell_type": "code",
   "execution_count": 6,
   "id": "0cb8fa84-f1fa-4ad4-ac1e-0934aeed884f",
   "metadata": {},
   "outputs": [],
   "source": [
    "#print(os.environ[\"OPENAI_API_KEY\"])"
   ]
  },
  {
   "cell_type": "markdown",
   "id": "41f24284-6335-4c7a-9db9-8ae7f447a76a",
   "metadata": {},
   "source": [
    "# Promp template"
   ]
  },
  {
   "cell_type": "code",
   "execution_count": 7,
   "id": "017da787-4166-4348-83f3-6877e46369ff",
   "metadata": {},
   "outputs": [],
   "source": [
    "from langchain.prompts import PromptTemplate"
   ]
  },
  {
   "cell_type": "code",
   "execution_count": 8,
   "id": "6f50a8b9-19cf-4859-bc9b-627989e81121",
   "metadata": {},
   "outputs": [],
   "source": [
    "prompt = PromptTemplate.from_template(\"Describe un objeto que te resulte {adjetivo} y por que tiene ese efecto en ti.\")"
   ]
  },
  {
   "cell_type": "code",
   "execution_count": 9,
   "id": "0353948a-eaf4-4980-aab1-213067bc73e3",
   "metadata": {},
   "outputs": [
    {
     "data": {
      "text/plain": [
       "'Describe un objeto que te resulte fascinante y por que tiene ese efecto en ti.'"
      ]
     },
     "execution_count": 9,
     "metadata": {},
     "output_type": "execute_result"
    }
   ],
   "source": [
    "prompt.format(adjetivo=\"fascinante\")"
   ]
  },
  {
   "cell_type": "code",
   "execution_count": 10,
   "id": "fbd2d31a-669b-4562-93c9-0123ab795cec",
   "metadata": {},
   "outputs": [
    {
     "data": {
      "text/plain": [
       "'Describe un objeto que te resulte feo y por que tiene ese efecto en ti.'"
      ]
     },
     "execution_count": 10,
     "metadata": {},
     "output_type": "execute_result"
    }
   ],
   "source": [
    "prompt.format(adjetivo=\"feo\")"
   ]
  },
  {
   "cell_type": "markdown",
   "id": "2fdd423a-98c9-4ee6-a3db-1880fe84a9d4",
   "metadata": {},
   "source": [
    "## Cadenas con prompt template"
   ]
  },
  {
   "cell_type": "code",
   "execution_count": 11,
   "id": "1a92ec7a-4c8f-49e4-b206-29a8b0dfafba",
   "metadata": {},
   "outputs": [],
   "source": [
    "template = \"Eres un asistente util que traduce del idioma {idioma_entrada} al {idioma_salida} el texto: {texto}\""
   ]
  },
  {
   "cell_type": "code",
   "execution_count": 12,
   "id": "ec6c0daa-2ab6-4474-84ca-8c4fe701b981",
   "metadata": {},
   "outputs": [
    {
     "data": {
      "text/plain": [
       "'Eres un asistente util que traduce del idioma {idioma_entrada} al {idioma_salida} el texto: {texto}'"
      ]
     },
     "execution_count": 12,
     "metadata": {},
     "output_type": "execute_result"
    }
   ],
   "source": [
    "template"
   ]
  },
  {
   "cell_type": "code",
   "execution_count": 13,
   "id": "2aa9ec79-f502-448a-8d7e-c88a0db54b9a",
   "metadata": {},
   "outputs": [],
   "source": [
    "texto = \"Me encanta programar.\""
   ]
  },
  {
   "cell_type": "code",
   "execution_count": 14,
   "id": "534838f1-9116-4ea1-a4b7-81e78c13301c",
   "metadata": {},
   "outputs": [],
   "source": [
    "prompt_template = PromptTemplate(\n",
    "    input_variables=[\"idioma_entrada\",\"idioma_salida\",\"texto\"], template=template\n",
    ")"
   ]
  },
  {
   "cell_type": "code",
   "execution_count": 15,
   "id": "43c443bc-2ced-4def-b547-b9996069e584",
   "metadata": {},
   "outputs": [],
   "source": [
    "!pip install langchain-openai -q"
   ]
  },
  {
   "cell_type": "markdown",
   "id": "a9ec2f0c-d396-4c26-82d6-73c21db04617",
   "metadata": {},
   "source": [
    "# Llamada al LLM"
   ]
  },
  {
   "cell_type": "code",
   "execution_count": 17,
   "id": "448083f3-107d-4131-a6a6-280e4c847344",
   "metadata": {},
   "outputs": [],
   "source": [
    "from langchain_openai import ChatOpenAI\n",
    "from langchain.chains import LLMChain\n",
    "from langchain_core.runnables.base import RunnableSequence"
   ]
  },
  {
   "cell_type": "code",
   "execution_count": 18,
   "id": "85cfeba2-f898-45b0-b5d0-e047908d6437",
   "metadata": {},
   "outputs": [],
   "source": [
    "llm = ChatOpenAI(temperature=0, model_name=\"gpt-3.5-turbo\")"
   ]
  },
  {
   "cell_type": "code",
   "execution_count": 19,
   "id": "4197e63b-6f67-4861-8a4c-27a0a41d84c2",
   "metadata": {},
   "outputs": [
    {
     "ename": "TypeError",
     "evalue": "Expected a Runnable, callable or dict.Instead got an unsupported type: <class 'list'>",
     "output_type": "error",
     "traceback": [
      "\u001b[1;31m---------------------------------------------------------------------------\u001b[0m",
      "\u001b[1;31mTypeError\u001b[0m                                 Traceback (most recent call last)",
      "Cell \u001b[1;32mIn[19], line 2\u001b[0m\n\u001b[0;32m      1\u001b[0m \u001b[38;5;66;03m# chain = LLMChain(llm=llm, prompt=prompt_template)\u001b[39;00m\n\u001b[1;32m----> 2\u001b[0m chain \u001b[38;5;241m=\u001b[39m RunnableSequence([prompt_template, llm])\n",
      "File \u001b[1;32m~\\anaconda3\\envs\\curos_langchain\\Lib\\site-packages\\langchain_core\\runnables\\base.py:2775\u001b[0m, in \u001b[0;36mRunnableSequence.__init__\u001b[1;34m(self, name, first, middle, last, *steps)\u001b[0m\n\u001b[0;32m   2773\u001b[0m         steps_flat\u001b[38;5;241m.\u001b[39mextend(step\u001b[38;5;241m.\u001b[39msteps)\n\u001b[0;32m   2774\u001b[0m     \u001b[38;5;28;01melse\u001b[39;00m:\n\u001b[1;32m-> 2775\u001b[0m         steps_flat\u001b[38;5;241m.\u001b[39mappend(coerce_to_runnable(step))\n\u001b[0;32m   2776\u001b[0m \u001b[38;5;28;01mif\u001b[39;00m \u001b[38;5;28mlen\u001b[39m(steps_flat) \u001b[38;5;241m<\u001b[39m \u001b[38;5;241m2\u001b[39m:\n\u001b[0;32m   2777\u001b[0m     msg \u001b[38;5;241m=\u001b[39m \u001b[38;5;124mf\u001b[39m\u001b[38;5;124m\"\u001b[39m\u001b[38;5;124mRunnableSequence must have at least 2 steps, got \u001b[39m\u001b[38;5;132;01m{\u001b[39;00m\u001b[38;5;28mlen\u001b[39m(steps_flat)\u001b[38;5;132;01m}\u001b[39;00m\u001b[38;5;124m\"\u001b[39m\n",
      "File \u001b[1;32m~\\anaconda3\\envs\\curos_langchain\\Lib\\site-packages\\langchain_core\\runnables\\base.py:5843\u001b[0m, in \u001b[0;36mcoerce_to_runnable\u001b[1;34m(thing)\u001b[0m\n\u001b[0;32m   5838\u001b[0m \u001b[38;5;28;01melse\u001b[39;00m:\n\u001b[0;32m   5839\u001b[0m     msg \u001b[38;5;241m=\u001b[39m (\n\u001b[0;32m   5840\u001b[0m         \u001b[38;5;124mf\u001b[39m\u001b[38;5;124m\"\u001b[39m\u001b[38;5;124mExpected a Runnable, callable or dict.\u001b[39m\u001b[38;5;124m\"\u001b[39m\n\u001b[0;32m   5841\u001b[0m         \u001b[38;5;124mf\u001b[39m\u001b[38;5;124m\"\u001b[39m\u001b[38;5;124mInstead got an unsupported type: \u001b[39m\u001b[38;5;132;01m{\u001b[39;00m\u001b[38;5;28mtype\u001b[39m(thing)\u001b[38;5;132;01m}\u001b[39;00m\u001b[38;5;124m\"\u001b[39m\n\u001b[0;32m   5842\u001b[0m     )\n\u001b[1;32m-> 5843\u001b[0m     \u001b[38;5;28;01mraise\u001b[39;00m \u001b[38;5;167;01mTypeError\u001b[39;00m(msg)\n",
      "\u001b[1;31mTypeError\u001b[0m: Expected a Runnable, callable or dict.Instead got an unsupported type: <class 'list'>"
     ]
    }
   ],
   "source": [
    "# chain = LLMChain(llm=llm, prompt=prompt_template)\n",
    "chain = RunnableSequence([prompt_template, llm])"
   ]
  },
  {
   "cell_type": "code",
   "execution_count": 20,
   "id": "27e53a79-958b-4237-84ac-fd320d923d6f",
   "metadata": {},
   "outputs": [
    {
     "ename": "NameError",
     "evalue": "name 'chain' is not defined",
     "output_type": "error",
     "traceback": [
      "\u001b[1;31m---------------------------------------------------------------------------\u001b[0m",
      "\u001b[1;31mNameError\u001b[0m                                 Traceback (most recent call last)",
      "Cell \u001b[1;32mIn[20], line 1\u001b[0m\n\u001b[1;32m----> 1\u001b[0m respuesta \u001b[38;5;241m=\u001b[39m chain\u001b[38;5;241m.\u001b[39minvoke(\u001b[38;5;28minput\u001b[39m\u001b[38;5;241m=\u001b[39m{\u001b[38;5;124m\"\u001b[39m\u001b[38;5;124midioma_entrada\u001b[39m\u001b[38;5;124m\"\u001b[39m:\u001b[38;5;124m\"\u001b[39m\u001b[38;5;124mespañol\u001b[39m\u001b[38;5;124m\"\u001b[39m, \u001b[38;5;124m\"\u001b[39m\u001b[38;5;124midioma_salida\u001b[39m\u001b[38;5;124m\"\u001b[39m:\u001b[38;5;124m\"\u001b[39m\u001b[38;5;124mingles\u001b[39m\u001b[38;5;124m\"\u001b[39m, \u001b[38;5;124m\"\u001b[39m\u001b[38;5;124mtexto\u001b[39m\u001b[38;5;124m\"\u001b[39m: texto})\n",
      "\u001b[1;31mNameError\u001b[0m: name 'chain' is not defined"
     ]
    }
   ],
   "source": [
    "respuesta = chain.invoke(input={\"idioma_entrada\":\"español\", \"idioma_salida\":\"ingles\", \"texto\": texto})"
   ]
  },
  {
   "cell_type": "code",
   "execution_count": null,
   "id": "4a8f87c1-d84b-4feb-b08a-f43a4550f5ed",
   "metadata": {},
   "outputs": [],
   "source": []
  },
  {
   "cell_type": "code",
   "execution_count": null,
   "id": "90458da5-6904-400a-aa97-378985dcaa51",
   "metadata": {},
   "outputs": [],
   "source": []
  },
  {
   "cell_type": "code",
   "execution_count": null,
   "id": "71dfa7c0-1797-4597-ab53-3c302fd39c22",
   "metadata": {},
   "outputs": [],
   "source": []
  },
  {
   "cell_type": "code",
   "execution_count": null,
   "id": "3a0642ca-8425-4546-aeeb-e31d19f9f9a3",
   "metadata": {},
   "outputs": [],
   "source": []
  }
 ],
 "metadata": {
  "kernelspec": {
   "display_name": "Python 3 (ipykernel)",
   "language": "python",
   "name": "python3"
  },
  "language_info": {
   "codemirror_mode": {
    "name": "ipython",
    "version": 3
   },
   "file_extension": ".py",
   "mimetype": "text/x-python",
   "name": "python",
   "nbconvert_exporter": "python",
   "pygments_lexer": "ipython3",
   "version": "3.12.7"
  }
 },
 "nbformat": 4,
 "nbformat_minor": 5
}
